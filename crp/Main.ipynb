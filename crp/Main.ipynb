{
 "cells": [
  {
   "cell_type": "code",
   "execution_count": null,
   "metadata": {},
   "outputs": [],
   "source": [
    "import os\n",
    "import pandas as pd\n",
    "import yfinance as yf\n",
    "from   pytrends.request import TrendReq\n",
    "from   pytrends.exceptions import ResponseError\n",
    "import time"
   ]
  },
  {
   "cell_type": "code",
   "execution_count": null,
   "metadata": {},
   "outputs": [],
   "source": [
    "def fetch_google_trends_data(keyword, timeframe='now 1-d' , retries=10, backoff_factor=1):\n",
    "    pytrends = TrendReq()\n",
    "    for attempt in range(retries):\n",
    "        try:\n",
    "            pytrends.build_payload([keyword], timeframe=timeframe)\n",
    "            return pytrends.interest_over_time()\n",
    "        except ResponseError as e:\n",
    "            if e.response.status_code == 429:  # Too Many Requests\n",
    "                wait_time = backoff_factor * (2 ** attempt)\n",
    "                print(f\"Rate limited by Google. Retrying in {wait_time} seconds.\")\n",
    "                time.sleep(wait_time)\n",
    "            else:\n",
    "                raise e\n",
    "    raise Exception(\"Failed to fetch data after multiple retries.\")\n",
    " \n",
    "if __name__ == '__main__':\n",
    "    # Fetch data from Google Trends\n",
    "    keyword = \"XRP USD\"\n",
    "    google_trends_data = fetch_google_trends_data(keyword)\n",
    "    google_trends_data['Date'] = google_trends_data.index\n",
    "    \n",
    "    #google_trends_data.to_csv('test1.csv')\n",
    " \n",
    "    # Fetch data from Yahoo Finance\n",
    "    #finance_data = fetch_xrp_usd_data()\n",
    " \n",
    "    # Merge dataframes on date index and drop specified columns\n",
    "    #merged_data = merge_dataframes(google_trends_data, finance_data)\n",
    " \n",
    "    # Define the directory to save the file\n",
    "    #save_directory = r'G:\\My Drive\\16. PYTHON'  # Corrected directory name\n",
    " \n",
    "    # Create the directory if it doesn't exist\n",
    "    # if not os.path.exists(save_directory):\n",
    "    #     os.makedirs(save_directory)\n",
    " \n",
    "    # Construct the file path\n",
    "    #file_name = 'XRP_USD_and_Google_Trends.xlsx'\n",
    "    #file_path = os.path.join(save_directory, file_name)\n",
    " \n",
    "    # Save the merged data to an Excel file\n",
    "    #save_to_excel(merged_data, file_path)\n"
   ]
  },
  {
   "cell_type": "code",
   "execution_count": null,
   "metadata": {},
   "outputs": [],
   "source": [
    "from   datetime import datetime , timedelta\n",
    "##################### Specify Date ####################\n",
    "\n",
    "yesterday = datetime.now() - timedelta(days=1)\n",
    "first_day_of_month = yesterday.replace(day=1)\n",
    "from_date = first_day_of_month.strftime('%Y-%m-%d') #กำหนดวันเริ่ม \n",
    "to_date   = yesterday.strftime('%Y-%m-%d')\n",
    "\n",
    "## Crate timestamp df based on the from_date ##\n",
    "print(from_date)\n",
    "print(to_date)"
   ]
  },
  {
   "cell_type": "code",
   "execution_count": null,
   "metadata": {},
   "outputs": [],
   "source": [
    "google_trends_data"
   ]
  }
 ],
 "metadata": {
  "kernelspec": {
   "display_name": "Python 3",
   "language": "python",
   "name": "python3"
  },
  "language_info": {
   "codemirror_mode": {
    "name": "ipython",
    "version": 3
   },
   "file_extension": ".py",
   "mimetype": "text/x-python",
   "name": "python",
   "nbconvert_exporter": "python",
   "pygments_lexer": "ipython3",
   "version": "3.11.2"
  }
 },
 "nbformat": 4,
 "nbformat_minor": 2
}
